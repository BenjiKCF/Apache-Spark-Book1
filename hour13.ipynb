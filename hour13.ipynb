{
 "cells": [
  {
   "cell_type": "code",
   "execution_count": 3,
   "id": "insured-poker",
   "metadata": {},
   "outputs": [],
   "source": [
    "from pyspark import SparkConf, SparkContext\n",
    "from pyspark.sql import SQLContext, HiveContext\n",
    "\n",
    "#sc.stop()\n",
    "sc = SparkContext()\n",
    "sqlContext = SQLContext(sc)"
   ]
  },
  {
   "cell_type": "code",
   "execution_count": 2,
   "id": "diagnostic-cruise",
   "metadata": {},
   "outputs": [],
   "source": [
    "#sc.stop()"
   ]
  },
  {
   "cell_type": "code",
   "execution_count": 5,
   "id": "through-slide",
   "metadata": {},
   "outputs": [],
   "source": [
    "# from pyspark import SparkConf, SparkContext\n",
    "# from pyspark.sql import SQLContext, HiveContext\n",
    "\n",
    "# sc = SparkContext()\n",
    "# hiveContext = HiveContext(sc)\n",
    "\n",
    "# sql_cmd = \"\"\"SELECT name, lat, long\n",
    "# FROM stations\n",
    "# WHERE landmark = 'San Jose'\"\"\" "
   ]
  },
  {
   "cell_type": "code",
   "execution_count": 6,
   "id": "innocent-underground",
   "metadata": {},
   "outputs": [],
   "source": [
    "#sqlContext.sql(sql_cmd).show()"
   ]
  },
  {
   "cell_type": "code",
   "execution_count": 3,
   "id": "fewer-office",
   "metadata": {},
   "outputs": [],
   "source": [
    "myrdd = sc.parallelize([('Jeff', 46),('Kellie', 44)])"
   ]
  },
  {
   "cell_type": "code",
   "execution_count": 4,
   "id": "anticipated-packet",
   "metadata": {},
   "outputs": [
    {
     "data": {
      "text/plain": [
       "[Row(_1='Jeff', _2=46), Row(_1='Kellie', _2=44)]"
      ]
     },
     "execution_count": 4,
     "metadata": {},
     "output_type": "execute_result"
    }
   ],
   "source": [
    "sqlContext.createDataFrame(myrdd).collect()"
   ]
  },
  {
   "cell_type": "code",
   "execution_count": 8,
   "id": "manual-advertising",
   "metadata": {},
   "outputs": [
    {
     "name": "stdout",
     "output_type": "stream",
     "text": [
      "+---------+-----------+----------------+\n",
      "|      lat|       long|            name|\n",
      "+---------+-----------+----------------+\n",
      "|37.331415|  -121.8932|Adobe on Almaden|\n",
      "|37.348742|-121.894715|       Japantown|\n",
      "+---------+-----------+----------------+\n",
      "\n"
     ]
    }
   ],
   "source": [
    "stationsrdd = sc.parallelize(['{\"name\":\"Adobe on Almaden\", \"lat\":37.331415, \"long\":-121.8932}',\n",
    "                              '{\"name\":\"Japantown\", \"lat\":37.348742, \"long\":-121.894715}'])\n",
    "\n",
    "#df = sqlContext.jsonRDD(stationsrdd)\n",
    "df = sqlContext.read.json(stationsrdd)\n",
    "df.show()"
   ]
  },
  {
   "cell_type": "code",
   "execution_count": 9,
   "id": "fallen-progress",
   "metadata": {},
   "outputs": [
    {
     "data": {
      "text/plain": [
       "[Row(value='2,San Jose Diridon Caltrain Station,37.329732,-121.901782,27,San Jose,8/6/2013')]"
      ]
     },
     "execution_count": 9,
     "metadata": {},
     "output_type": "execute_result"
    }
   ],
   "source": [
    "# read an individual file\n",
    "df = sqlContext.read.text('stations.csv')\n",
    "df.take(1)"
   ]
  },
  {
   "cell_type": "code",
   "execution_count": 17,
   "id": "seventh-portland",
   "metadata": {},
   "outputs": [
    {
     "name": "stdout",
     "output_type": "stream",
     "text": [
      "root\n",
      " |-- lat: double (nullable = true)\n",
      " |-- long: double (nullable = true)\n",
      " |-- name: string (nullable = true)\n",
      "\n"
     ]
    }
   ],
   "source": [
    "rdd = sc.parallelize(['{\"name\":\"Adobe on Almaden\", \"lat\":37.331415, \"long\":-121.8932}',\n",
    "                      '{\"name\":\"Japantown\", \"lat\":37.348742, \"long\":-121.894715}'])\n",
    "\n",
    "df = sqlContext.read.json(rdd)\n",
    "df.printSchema()"
   ]
  },
  {
   "cell_type": "code",
   "execution_count": 24,
   "id": "designed-margin",
   "metadata": {},
   "outputs": [
    {
     "name": "stdout",
     "output_type": "stream",
     "text": [
      "root\n",
      " |-- station_id: integer (nullable = true)\n",
      " |-- name: string (nullable = true)\n",
      " |-- lat: float (nullable = true)\n",
      " |-- long: float (nullable = true)\n",
      " |-- dockcount: integer (nullable = true)\n",
      " |-- landmark: string (nullable = true)\n",
      " |-- installation: string (nullable = true)\n",
      "\n"
     ]
    }
   ],
   "source": [
    "from pyspark.sql.types import *\n",
    "\n",
    "myschema = StructType([StructField(\"station_id\", IntegerType(), True),\n",
    "                       StructField(\"name\", StringType(), True),\n",
    "                       StructField(\"lat\", FloatType(), True),\n",
    "                       StructField(\"long\", FloatType(), True),\n",
    "                       StructField(\"dockcount\", IntegerType(), True),\n",
    "                       StructField(\"landmark\", StringType(), True),\n",
    "                       StructField(\"installation\", StringType(), True)])\n",
    "\n",
    "rdd = sc.textFile('file:///.../stations.csv')\\\n",
    "                    .map(lambda x: x.split(','))\\\n",
    "                    .map(lambda x: (int(x[0]), str(x[1]),\n",
    "                                    float(x[2]), float(x[3]),\n",
    "                                    int(x[4]), str(x[5]), str(x[6])))\n",
    "\n",
    "df = sqlContext.createDataFrame(rdd, myschema)\n",
    "df.printSchema()"
   ]
  },
  {
   "cell_type": "code",
   "execution_count": 25,
   "id": "blank-natural",
   "metadata": {},
   "outputs": [
    {
     "data": {
      "text/plain": [
       "['station_id', 'name', 'lat', 'long', 'dockcount', 'landmark', 'installation']"
      ]
     },
     "execution_count": 25,
     "metadata": {},
     "output_type": "execute_result"
    }
   ],
   "source": [
    "df.columns"
   ]
  },
  {
   "cell_type": "code",
   "execution_count": 26,
   "id": "prerequisite-institution",
   "metadata": {},
   "outputs": [
    {
     "data": {
      "text/plain": [
       "[('station_id', 'int'),\n",
       " ('name', 'string'),\n",
       " ('lat', 'float'),\n",
       " ('long', 'float'),\n",
       " ('dockcount', 'int'),\n",
       " ('landmark', 'string'),\n",
       " ('installation', 'string')]"
      ]
     },
     "execution_count": 26,
     "metadata": {},
     "output_type": "execute_result"
    }
   ],
   "source": [
    "df.dtypes"
   ]
  },
  {
   "cell_type": "code",
   "execution_count": 6,
   "id": "excellent-reliance",
   "metadata": {},
   "outputs": [
    {
     "name": "stdout",
     "output_type": "stream",
     "text": [
      "+------+---+\n",
      "|    _1| _2|\n",
      "+------+---+\n",
      "|  Jeff| 46|\n",
      "|Kellie| 44|\n",
      "|  Jeff| 46|\n",
      "+------+---+\n",
      "\n"
     ]
    }
   ],
   "source": [
    "rdd = sc.parallelize([('Jeff', 46),('Kellie', 44),('Jeff', 46)])\n",
    "df = sqlContext.createDataFrame(rdd)\n",
    "df.show()"
   ]
  },
  {
   "cell_type": "code",
   "execution_count": 8,
   "id": "cultural-glossary",
   "metadata": {},
   "outputs": [
    {
     "name": "stdout",
     "output_type": "stream",
     "text": [
      "+------+---+\n",
      "|    _1| _2|\n",
      "+------+---+\n",
      "|  Jeff| 46|\n",
      "|Kellie| 44|\n",
      "+------+---+\n",
      "\n"
     ]
    }
   ],
   "source": [
    "df.distinct().show()"
   ]
  },
  {
   "cell_type": "code",
   "execution_count": 10,
   "id": "hydraulic-attendance",
   "metadata": {},
   "outputs": [
    {
     "name": "stdout",
     "output_type": "stream",
     "text": [
      "+------+---+\n",
      "|    _1| _2|\n",
      "+------+---+\n",
      "|  Jeff| 46|\n",
      "|Kellie| 44|\n",
      "+------+---+\n",
      "\n"
     ]
    }
   ],
   "source": [
    "df.drop_duplicates().show()"
   ]
  },
  {
   "cell_type": "code",
   "execution_count": null,
   "id": "diagnostic-behavior",
   "metadata": {},
   "outputs": [],
   "source": []
  },
  {
   "cell_type": "code",
   "execution_count": null,
   "id": "heavy-advancement",
   "metadata": {},
   "outputs": [],
   "source": []
  },
  {
   "cell_type": "code",
   "execution_count": null,
   "id": "worldwide-wellington",
   "metadata": {},
   "outputs": [],
   "source": []
  },
  {
   "cell_type": "code",
   "execution_count": null,
   "id": "hearing-infrared",
   "metadata": {},
   "outputs": [],
   "source": []
  },
  {
   "cell_type": "code",
   "execution_count": null,
   "id": "falling-program",
   "metadata": {},
   "outputs": [],
   "source": []
  },
  {
   "cell_type": "code",
   "execution_count": null,
   "id": "temporal-active",
   "metadata": {},
   "outputs": [],
   "source": []
  },
  {
   "cell_type": "code",
   "execution_count": null,
   "id": "designing-documentary",
   "metadata": {},
   "outputs": [],
   "source": []
  },
  {
   "cell_type": "code",
   "execution_count": null,
   "id": "younger-forestry",
   "metadata": {},
   "outputs": [],
   "source": []
  }
 ],
 "metadata": {
  "kernelspec": {
   "display_name": "Python 3",
   "language": "python",
   "name": "python3"
  },
  "language_info": {
   "codemirror_mode": {
    "name": "ipython",
    "version": 3
   },
   "file_extension": ".py",
   "mimetype": "text/x-python",
   "name": "python",
   "nbconvert_exporter": "python",
   "pygments_lexer": "ipython3",
   "version": "3.9.1"
  }
 },
 "nbformat": 4,
 "nbformat_minor": 5
}
