{
 "cells": [
  {
   "cell_type": "code",
   "execution_count": null,
   "metadata": {},
   "outputs": [],
   "source": []
  },
  {
   "cell_type": "code",
   "execution_count": 1,
   "metadata": {},
   "outputs": [],
   "source": [
    "status = sc.textFile(\"status.csv\").map(lambda x: x.split(',')).keyBy(lambda x: x[0])"
   ]
  },
  {
   "cell_type": "code",
   "execution_count": 2,
   "metadata": {},
   "outputs": [
    {
     "data": {
      "text/plain": [
       "[('10', ['10', '7', '8', '\"2014-12-30 15:37:02\"']),\n",
       " ('10', ['10', '7', '8', '\"2014-12-30 15:35:02\"']),\n",
       " ('10', ['10', '7', '8', '\"2014-12-30 15:34:02\"']),\n",
       " ('10', ['10', '7', '8', '\"2014-12-30 15:33:02\"']),\n",
       " ('10', ['10', '7', '8', '\"2014-12-30 15:32:02\"'])]"
      ]
     },
     "execution_count": 2,
     "metadata": {},
     "output_type": "execute_result"
    }
   ],
   "source": [
    "status.take(5)"
   ]
  },
  {
   "cell_type": "code",
   "execution_count": 3,
   "metadata": {},
   "outputs": [],
   "source": [
    "stations = sc.textFile(\"stations.csv\").map(lambda x: x.split(',')).keyBy(lambda x: x[0])"
   ]
  },
  {
   "cell_type": "code",
   "execution_count": 4,
   "metadata": {},
   "outputs": [
    {
     "data": {
      "text/plain": [
       "[('2',\n",
       "  ['2',\n",
       "   'San Jose Diridon Caltrain Station',\n",
       "   '37.329732',\n",
       "   '-121.901782',\n",
       "   '27',\n",
       "   'San Jose',\n",
       "   '8/6/2013']),\n",
       " ('3',\n",
       "  ['3',\n",
       "   'San Jose Civic Center',\n",
       "   '37.330698',\n",
       "   '-121.888979',\n",
       "   '15',\n",
       "   'San Jose',\n",
       "   '8/5/2013']),\n",
       " ('4',\n",
       "  ['4',\n",
       "   'Santa Clara at Almaden',\n",
       "   '37.333988',\n",
       "   '-121.894902',\n",
       "   '11',\n",
       "   'San Jose',\n",
       "   '8/6/2013']),\n",
       " ('5',\n",
       "  ['5',\n",
       "   'Adobe on Almaden',\n",
       "   '37.331415',\n",
       "   '-121.8932',\n",
       "   '19',\n",
       "   'San Jose',\n",
       "   '8/5/2013']),\n",
       " ('6',\n",
       "  ['6',\n",
       "   'San Pedro Square',\n",
       "   '37.336721',\n",
       "   '-121.894074',\n",
       "   '15',\n",
       "   'San Jose',\n",
       "   '8/7/2013'])]"
      ]
     },
     "execution_count": 4,
     "metadata": {},
     "output_type": "execute_result"
    }
   ],
   "source": [
    "stations.take(5)"
   ]
  },
  {
   "cell_type": "code",
   "execution_count": 5,
   "metadata": {},
   "outputs": [],
   "source": [
    "#status.join(stations).take(1)"
   ]
  },
  {
   "cell_type": "code",
   "execution_count": 6,
   "metadata": {},
   "outputs": [],
   "source": [
    "#2014-09-01 00:00:03, Temporary Transbay Terminal (Howard at Beale), 9, 14"
   ]
  },
  {
   "cell_type": "code",
   "execution_count": 7,
   "metadata": {},
   "outputs": [],
   "source": [
    "# This could (and most likely will) result in an expensive shuffle operation.\n",
    "#joined = status.join(stations).map(lambda x: (x[1][0][3], x[1][1][1], x[1][0][1], x[1][0][2])).take(3)"
   ]
  },
  {
   "cell_type": "code",
   "execution_count": 8,
   "metadata": {},
   "outputs": [],
   "source": [
    "stationsfile = 'stations.csv'\n",
    "sdata = dict(map(lambda x: (x[0], x[1]), \n",
    "                 map(lambda x: x.split(','), \n",
    "                     open(stationsfile))))"
   ]
  },
  {
   "cell_type": "code",
   "execution_count": 19,
   "metadata": {},
   "outputs": [
    {
     "data": {
      "text/plain": [
       "dict_values(['San Jose Diridon Caltrain Station', 'San Jose Civic Center', 'Santa Clara at Almaden', 'Adobe on Almaden', 'San Pedro Square', 'Paseo de San Antonio', 'San Salvador at 1st', 'Japantown', 'San Jose City Hall', 'MLK Library', 'SJSU 4th at San Carlos', 'St James Park', 'Arena Green / SAP Center', 'SJSU - San Salvador at 9th', 'Franklin at Maple', 'Redwood City Caltrain Station', 'San Mateo County Center', 'Redwood City Public Library', 'Stanford in Redwood City', 'Redwood City Medical Center', 'Mountain View City Hall', 'Mountain View Caltrain Station', 'San Antonio Caltrain Station', 'Evelyn Park and Ride', 'San Antonio Shopping Center', 'Castro Street and El Camino Real', 'Rengstorff Avenue / California Street', 'Palo Alto Caltrain Station', 'University and Emerson', 'California Ave Caltrain Station', 'Cowper at University', 'Park at Olive', 'Clay at Battery', 'Davis at Jackson', 'Commercial at Montgomery', 'Washington at Kearney', 'Post at Kearney', 'Embarcadero at Vallejo', 'Spear at Folsom', 'Harry Bridges Plaza (Ferry Building)', 'Embarcadero at Folsom', 'Powell Street BART', 'Embarcadero at Bryant', 'Temporary Transbay Terminal (Howard at Beale)', 'Beale at Market', '5th at Howard', 'San Francisco City Hall', 'Golden Gate at Polk', 'Embarcadero at Sansome', '2nd at Townsend', '2nd at Folsom', 'Howard at 2nd', '2nd at South Park', 'Townsend at 7th', 'South Van Ness at Market', 'Market at 10th', 'Yerba Buena Center of the Arts (3rd @ Howard)', 'San Francisco Caltrain 2 (330 Townsend)', 'San Francisco Caltrain (Townsend at 4th)', 'Powell at Post (Union Square)', 'Civic Center BART (7th at Market)', 'Grant Avenue at Columbus Avenue', 'Steuart at Market', 'Mechanics Plaza (Market at Battery)', 'Market at 4th', 'Market at Sansome', 'Santa Clara County Civic Center', 'Broadway St at Battery St', 'Mezes Park', 'Ryland Park'])"
      ]
     },
     "execution_count": 19,
     "metadata": {},
     "output_type": "execute_result"
    }
   ],
   "source": [
    "sdata.values()"
   ]
  },
  {
   "cell_type": "code",
   "execution_count": 27,
   "metadata": {},
   "outputs": [
    {
     "data": {
      "text/plain": [
       "'San Jose Diridon Caltrain Station'"
      ]
     },
     "execution_count": 27,
     "metadata": {},
     "output_type": "execute_result"
    }
   ],
   "source": [
    "sdata['2']"
   ]
  },
  {
   "cell_type": "code",
   "execution_count": 28,
   "metadata": {},
   "outputs": [
    {
     "data": {
      "text/plain": [
       "[('\"2014-12-30 15:37:02\"', 'San Jose City Hall', '7', '8'),\n",
       " ('\"2014-12-30 15:35:02\"', 'San Jose City Hall', '7', '8'),\n",
       " ('\"2014-12-30 15:34:02\"', 'San Jose City Hall', '7', '8')]"
      ]
     },
     "execution_count": 28,
     "metadata": {},
     "output_type": "execute_result"
    }
   ],
   "source": [
    "status.map(lambda x: (x[1][3], sdata[x[0]], x[1][1], x[1][2])).take(3)"
   ]
  },
  {
   "cell_type": "code",
   "execution_count": 29,
   "metadata": {},
   "outputs": [
    {
     "data": {
      "text/plain": [
       "[('\"2014-12-30 15:37:02\"', 'San Jose City Hall', '7', '8'),\n",
       " ('\"2014-12-30 15:35:02\"', 'San Jose City Hall', '7', '8'),\n",
       " ('\"2014-12-30 15:34:02\"', 'San Jose City Hall', '7', '8')]"
      ]
     },
     "execution_count": 29,
     "metadata": {},
     "output_type": "execute_result"
    }
   ],
   "source": [
    "#“Best: Initialize a broadcast variable for the smaller stations table.”\n",
    "stations = sc.broadcast(sdata)\n",
    "status.map(lambda x: (x[1][3], sdata[x[0]], x[1][1], x[1][2])).take(3)"
   ]
  },
  {
   "cell_type": "code",
   "execution_count": 32,
   "metadata": {},
   "outputs": [
    {
     "data": {
      "text/plain": [
       "[2, 3, 4, 5, 6]"
      ]
     },
     "execution_count": 32,
     "metadata": {},
     "output_type": "execute_result"
    }
   ],
   "source": [
    "acc = sc.accumulator(0)\n",
    "\n",
    "def addone(x):\n",
    "    global acc\n",
    "    acc += 1\n",
    "    return x+1\n",
    "\n",
    "myrdd =sc.parallelize([1,2,3,4,5])\n",
    "myrdd.map(lambda x: addone(x)).collect()"
   ]
  },
  {
   "cell_type": "code",
   "execution_count": 33,
   "metadata": {},
   "outputs": [
    {
     "name": "stdout",
     "output_type": "stream",
     "text": [
      "records processed: 5\n"
     ]
    }
   ],
   "source": [
    "print(\"records processed: \" + str(acc.value))"
   ]
  },
  {
   "cell_type": "code",
   "execution_count": 35,
   "metadata": {},
   "outputs": [],
   "source": [
    "from pyspark import AccumulatorParam\n",
    "class VectorAccumulatorParam(AccumulatorParam):\n",
    "    def zero(self, value):\n",
    "        dict1={}\n",
    "        for i in range(0, len(value)):\n",
    "            dict1[i]=0\n",
    "        return dict1\n",
    "    def addInPlace(self, val1, val2):\n",
    "        for i in val1.keys():\n",
    "            val1[i] += val2[i]\n",
    "        return val1"
   ]
  },
  {
   "cell_type": "code",
   "execution_count": 36,
   "metadata": {},
   "outputs": [],
   "source": [
    "rdd1=sc.parallelize([{0: 0.3, 1: 0.8, 2: 0.4}, {0: 0.2, 1: 0.4, 2: 0.2}])\n",
    "vector_acc = sc.accumulator({0: 0, 1: 0, 2: 0}, VectorAccumulatorParam())"
   ]
  },
  {
   "cell_type": "code",
   "execution_count": 37,
   "metadata": {},
   "outputs": [
    {
     "name": "stdout",
     "output_type": "stream",
     "text": [
      "{0: 0.5, 1: 1.2000000000000002, 2: 0.6000000000000001}\n"
     ]
    }
   ],
   "source": [
    "def mapping_fn(x):\n",
    "    global vector_acc\n",
    "    vector_acc +=x\n",
    "    \n",
    "rdd1.foreach(mapping_fn)\n",
    "print(vector_acc.value)"
   ]
  },
  {
   "cell_type": "code",
   "execution_count": null,
   "metadata": {},
   "outputs": [],
   "source": []
  },
  {
   "cell_type": "code",
   "execution_count": null,
   "metadata": {},
   "outputs": [],
   "source": []
  }
 ],
 "metadata": {
  "kernelspec": {
   "display_name": "Python 3",
   "language": "python",
   "name": "python3"
  },
  "language_info": {
   "codemirror_mode": {
    "name": "ipython",
    "version": 3
   },
   "file_extension": ".py",
   "mimetype": "text/x-python",
   "name": "python",
   "nbconvert_exporter": "python",
   "pygments_lexer": "ipython3",
   "version": "3.7.4"
  }
 },
 "nbformat": 4,
 "nbformat_minor": 2
}
