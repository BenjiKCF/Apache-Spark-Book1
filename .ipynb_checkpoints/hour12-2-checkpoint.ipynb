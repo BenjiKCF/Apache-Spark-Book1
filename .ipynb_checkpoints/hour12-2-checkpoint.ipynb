{
 "cells": [
  {
   "cell_type": "code",
   "execution_count": 1,
   "metadata": {},
   "outputs": [],
   "source": [
    "import urllib.request\n",
    "\n",
    "stopwordsurl = \"https://s3.amazonaws.com/sty-spark/stopwords/stop-word-list.csv\"\n",
    "\n",
    "data = urllib.request.urlopen(stopwordsurl).read()\n",
    "\n",
    "stopwordslist = data.decode().split(\",\")"
   ]
  },
  {
   "cell_type": "code",
   "execution_count": 2,
   "metadata": {},
   "outputs": [],
   "source": [
    "stopwords = sc.broadcast(stopwordslist)"
   ]
  },
  {
   "cell_type": "code",
   "execution_count": 3,
   "metadata": {},
   "outputs": [],
   "source": [
    "word_count = sc.accumulator(0)\n",
    "total_len = sc.accumulator(0.0)"
   ]
  },
  {
   "cell_type": "code",
   "execution_count": 4,
   "metadata": {},
   "outputs": [],
   "source": [
    "def add_values(word, word_count, total_len):\n",
    "    word_count += 1\n",
    "    total_len += len(word)"
   ]
  },
  {
   "cell_type": "code",
   "execution_count": 5,
   "metadata": {},
   "outputs": [],
   "source": [
    "words = sc.textFile('shakespeare.txt')\\\n",
    "    .flatMap(lambda line: line.split())\\\n",
    "    .map(lambda x: x.lower())\\\n",
    "    .filter(lambda x: x not in stopwords.value)"
   ]
  },
  {
   "cell_type": "code",
   "execution_count": 6,
   "metadata": {},
   "outputs": [],
   "source": [
    "words.foreach(lambda x: add_values(x, word_count, total_len))"
   ]
  },
  {
   "cell_type": "code",
   "execution_count": 7,
   "metadata": {},
   "outputs": [
    {
     "name": "stdout",
     "output_type": "stream",
     "text": [
      "Total Number of Words: 966958\n",
      "Average Word Length: 3.608722405730135\n"
     ]
    }
   ],
   "source": [
    "avgwordlen = total_len.value/word_count.value\n",
    "print(\"Total Number of Words: \" + str(word_count.value))\n",
    "# Total Number of Words: 966958\n",
    "print(\"Average Word Length: \" + str(avgwordlen))"
   ]
  },
  {
   "cell_type": "code",
   "execution_count": 9,
   "metadata": {},
   "outputs": [
    {
     "data": {
      "text/plain": [
       "2"
      ]
     },
     "execution_count": 9,
     "metadata": {},
     "output_type": "execute_result"
    }
   ],
   "source": [
    "kvrdd = sc.parallelize([(1,'A'),(2,'B'),(3,'C'),(4,'D')],4)\n",
    "kvrdd.partitionBy(2).getNumPartitions()"
   ]
  },
  {
   "cell_type": "code",
   "execution_count": 35,
   "metadata": {},
   "outputs": [
    {
     "data": {
      "text/plain": [
       "[[((1, 101), 'B'), ((1, 99), 'A')], [((2, 101), 'D'), ((2, 99), 'C')]]"
      ]
     },
     "execution_count": 35,
     "metadata": {},
     "output_type": "execute_result"
    }
   ],
   "source": [
    "kvrdd = sc.parallelize([((1,99),'A'),((1,101),'B'), ((2,99),'C'),((2,101),'D')],2)\n",
    "kvrdd.glom().collect()\n",
    "\n",
    "kvrdd2 = kvrdd.repartitionAndSortWithinPartitions(numPartitions=2,\n",
    "                                                  ascending=False,\n",
    "                                                  keyfunc=lambda x: x[1])\n",
    "kvrdd2.glom().collect()"
   ]
  },
  {
   "cell_type": "code",
   "execution_count": 36,
   "metadata": {},
   "outputs": [],
   "source": [
    "def f(x):\n",
    "    for rec in x:\n",
    "        print(rec)"
   ]
  },
  {
   "cell_type": "code",
   "execution_count": 37,
   "metadata": {},
   "outputs": [],
   "source": [
    "kvrdd2.foreachPartition(f)"
   ]
  },
  {
   "cell_type": "code",
   "execution_count": 38,
   "metadata": {},
   "outputs": [
    {
     "data": {
      "text/plain": [
       "['A', 'B']"
      ]
     },
     "execution_count": 38,
     "metadata": {},
     "output_type": "execute_result"
    }
   ],
   "source": [
    "kvrdd = sc.parallelize([(1,'A'),(1,'B'),(2,'C'),(2,'D')],2)\n",
    "kvrdd.lookup(1)"
   ]
  },
  {
   "cell_type": "code",
   "execution_count": 39,
   "metadata": {},
   "outputs": [
    {
     "data": {
      "text/plain": [
       "[[('A', 1), ('B', 1)], [('C', 2), ('D', 2)]]"
      ]
     },
     "execution_count": 39,
     "metadata": {},
     "output_type": "execute_result"
    }
   ],
   "source": [
    "kvrdd = sc.parallelize([(1,'A'),(1,'B'),(2,'C'),(2,'D')],2)\n",
    "\n",
    "def f(iterator): yield [(b, a) for (a, b) in iterator]\n",
    "\n",
    "kvrdd.mapPartitions(f).collect()"
   ]
  },
  {
   "cell_type": "code",
   "execution_count": 40,
   "metadata": {},
   "outputs": [
    {
     "data": {
      "text/plain": [
       "[[[('A', 1), ('B', 1)]], [[('C', 2), ('D', 2)]]]"
      ]
     },
     "execution_count": 40,
     "metadata": {},
     "output_type": "execute_result"
    }
   ],
   "source": [
    "kvrdd.mapPartitions(f).glom().collect()"
   ]
  },
  {
   "cell_type": "code",
   "execution_count": null,
   "metadata": {},
   "outputs": [],
   "source": []
  }
 ],
 "metadata": {
  "kernelspec": {
   "display_name": "Python 3",
   "language": "python",
   "name": "python3"
  },
  "language_info": {
   "codemirror_mode": {
    "name": "ipython",
    "version": 3
   },
   "file_extension": ".py",
   "mimetype": "text/x-python",
   "name": "python",
   "nbconvert_exporter": "python",
   "pygments_lexer": "ipython3",
   "version": "3.7.4"
  }
 },
 "nbformat": 4,
 "nbformat_minor": 2
}
