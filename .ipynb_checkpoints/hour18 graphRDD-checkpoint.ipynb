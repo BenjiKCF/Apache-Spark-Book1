{
 "cells": [
  {
   "cell_type": "markdown",
   "id": "efficient-prediction",
   "metadata": {},
   "source": [
    "$SPARK_HOME/bin/pyspark --packages graphframes:graphframes:0.8.1-spark2.4-s_2.11"
   ]
  },
  {
   "cell_type": "code",
   "execution_count": 16,
   "id": "selective-integration",
   "metadata": {},
   "outputs": [],
   "source": [
    "from graphframes import *"
   ]
  },
  {
   "cell_type": "markdown",
   "id": "therapeutic-contrary",
   "metadata": {},
   "source": [
    "examples"
   ]
  },
  {
   "cell_type": "code",
   "execution_count": 17,
   "id": "catholic-mailman",
   "metadata": {},
   "outputs": [],
   "source": [
    "vertices = sqlContext.createDataFrame([\n",
    "    (\"1\", \"Jeff\", 46),\n",
    "    (\"2\", \"Paul\", 43),\n",
    "    (\"3\", \"Doug\", 45)],\n",
    "    [\"id\", \"name\",\"age\"])"
   ]
  },
  {
   "cell_type": "code",
   "execution_count": 18,
   "id": "gorgeous-oregon",
   "metadata": {},
   "outputs": [],
   "source": [
    "edges = sqlContext.createDataFrame([\n",
    "    (\"1\",\"2\",\"friend\"),\n",
    "    (\"2\",\"3\",\"follow\"),\n",
    "    (\"3\",\"2\",\"follow\")],\n",
    "    [\"src\",\"dst\",\"relationship\"])"
   ]
  },
  {
   "cell_type": "code",
   "execution_count": 20,
   "id": "noble-deputy",
   "metadata": {},
   "outputs": [],
   "source": [
    "#graph = GraphFrame(vertices, edges)"
   ]
  },
  {
   "cell_type": "code",
   "execution_count": null,
   "id": "experienced-giving",
   "metadata": {},
   "outputs": [],
   "source": [
    "#graph.vertices.show()"
   ]
  },
  {
   "cell_type": "code",
   "execution_count": 5,
   "id": "difficult-pressure",
   "metadata": {},
   "outputs": [],
   "source": [
    "#graph.vertices.count()"
   ]
  },
  {
   "cell_type": "code",
   "execution_count": 6,
   "id": "innovative-fisher",
   "metadata": {},
   "outputs": [],
   "source": [
    "#graph.edges.show()"
   ]
  },
  {
   "cell_type": "code",
   "execution_count": 7,
   "id": "retained-percentage",
   "metadata": {},
   "outputs": [],
   "source": [
    "#graph.edges.count()"
   ]
  },
  {
   "cell_type": "code",
   "execution_count": 8,
   "id": "rocky-amazon",
   "metadata": {},
   "outputs": [],
   "source": [
    "#graph.degrees.show()"
   ]
  },
  {
   "cell_type": "code",
   "execution_count": 9,
   "id": "proof-worcester",
   "metadata": {},
   "outputs": [],
   "source": [
    "#graph.inDegrees.show()"
   ]
  },
  {
   "cell_type": "code",
   "execution_count": 10,
   "id": "specialized-blackberry",
   "metadata": {},
   "outputs": [],
   "source": [
    "#graph.outDegrees.show()"
   ]
  },
  {
   "cell_type": "code",
   "execution_count": 11,
   "id": "floppy-dodge",
   "metadata": {},
   "outputs": [],
   "source": [
    "# motifs = graph.find(\"(1)-[edge]->(2)\")\n",
    "# motifs.show()"
   ]
  },
  {
   "cell_type": "code",
   "execution_count": 12,
   "id": "ongoing-hostel",
   "metadata": {},
   "outputs": [],
   "source": [
    "#motifs.printSchema()"
   ]
  },
  {
   "cell_type": "code",
   "execution_count": 13,
   "id": "religious-november",
   "metadata": {},
   "outputs": [],
   "source": [
    "#motifs.select(\"edge.relationship\").show()"
   ]
  },
  {
   "cell_type": "code",
   "execution_count": 14,
   "id": "assumed-gallery",
   "metadata": {},
   "outputs": [],
   "source": [
    "# v2 = graph.vertices.filter(\"age > 43\")\n",
    "# e2 = graph.edges.filter(\"relationship = 'friend'\")\n",
    "# subgraph = GraphFrame(v2, e2)"
   ]
  },
  {
   "cell_type": "markdown",
   "id": "exceptional-thursday",
   "metadata": {},
   "source": [
    "# Try it yourself"
   ]
  },
  {
   "cell_type": "code",
   "execution_count": null,
   "id": "modern-sustainability",
   "metadata": {},
   "outputs": [],
   "source": [
    "#stations = sc.textFile('s3://sty-spark/bike-share/stations') \\\n",
    "#                .map(lambda x: x.split(',')) \\\n",
    "#                .map(lambda x: (int(x[0]), str(x[1])))\n",
    "#vertices = sqlContext.createDataFrame(stations, \\\n",
    "#                ['id', 'station_name'])\n",
    "#vertices.show(3)"
   ]
  },
  {
   "cell_type": "code",
   "execution_count": null,
   "id": "posted-discrimination",
   "metadata": {},
   "outputs": [],
   "source": [
    "#stations = sc.textFile('s3://sty-spark/bike-share/stations') \\\n",
    "#                .map(lambda x: x.split(',')) \\\n",
    "#                .map(lambda x: (int(x[0]), str(x[1])))\n",
    "#vertices = sqlContext.createDataFrame(stations, \\\n",
    "#                ['id', 'station_name'])\n",
    "#vertices.show(3)"
   ]
  },
  {
   "cell_type": "code",
   "execution_count": null,
   "id": "loved-difficulty",
   "metadata": {},
   "outputs": [],
   "source": []
  },
  {
   "cell_type": "code",
   "execution_count": null,
   "id": "tamil-married",
   "metadata": {},
   "outputs": [],
   "source": []
  },
  {
   "cell_type": "code",
   "execution_count": null,
   "id": "connected-survivor",
   "metadata": {},
   "outputs": [],
   "source": []
  },
  {
   "cell_type": "code",
   "execution_count": null,
   "id": "functioning-beginning",
   "metadata": {},
   "outputs": [],
   "source": []
  }
 ],
 "metadata": {
  "kernelspec": {
   "display_name": "Python 3",
   "language": "python",
   "name": "python3"
  },
  "language_info": {
   "codemirror_mode": {
    "name": "ipython",
    "version": 3
   },
   "file_extension": ".py",
   "mimetype": "text/x-python",
   "name": "python",
   "nbconvert_exporter": "python",
   "pygments_lexer": "ipython3",
   "version": "3.9.1"
  }
 },
 "nbformat": 4,
 "nbformat_minor": 5
}
