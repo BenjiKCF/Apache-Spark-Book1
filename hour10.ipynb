{
 "cells": [
  {
   "cell_type": "code",
   "execution_count": 1,
   "id": "dietary-authorization",
   "metadata": {},
   "outputs": [],
   "source": [
    "stations = sc.textFile('stations.csv')\n",
    "status = sc.textFile('status.csv')"
   ]
  },
  {
   "cell_type": "code",
   "execution_count": 2,
   "id": "cellular-westminster",
   "metadata": {},
   "outputs": [
    {
     "data": {
      "text/plain": [
       "['10,7,8,\"2014-12-30 15:37:02\"']"
      ]
     },
     "execution_count": 2,
     "metadata": {},
     "output_type": "execute_result"
    }
   ],
   "source": [
    "status.take(1)"
   ]
  },
  {
   "cell_type": "code",
   "execution_count": 31,
   "id": "hazardous-cornwall",
   "metadata": {},
   "outputs": [
    {
     "data": {
      "text/plain": [
       "[(10, 7, 2014, 12, 30, 15),\n",
       " (10, 7, 2014, 12, 30, 15),\n",
       " (10, 7, 2014, 12, 30, 15),\n",
       " (10, 7, 2014, 12, 30, 15),\n",
       " (10, 7, 2014, 12, 30, 15)]"
      ]
     },
     "execution_count": 31,
     "metadata": {},
     "output_type": "execute_result"
    }
   ],
   "source": [
    "status2 = status.map(lambda x: x.split(',')) \\\n",
    ".map(lambda x: (x[0], x[1], x[2], x[3].replace('\"',''))) \\\n",
    ".map(lambda x: (x[0], x[1], x[2], x[3].split(' '))) \\\n",
    ".map(lambda x: (x[0], x[1], x[2], x[3][0].split('-'), x[3][1].split(':'))) \\\n",
    ".map(lambda x: (int(x[0]), int(x[1]), int(x[3][0]), int(x[3][1]), int(x[3][2]),\n",
    "int(x[4][0])))\n",
    "\n",
    "status2.take(5)"
   ]
  },
  {
   "cell_type": "code",
   "execution_count": 4,
   "id": "checked-principal",
   "metadata": {},
   "outputs": [],
   "source": [
    "#2015, feb, 22"
   ]
  },
  {
   "cell_type": "code",
   "execution_count": 34,
   "id": "minus-orleans",
   "metadata": {},
   "outputs": [
    {
     "data": {
      "text/plain": [
       "[(10, 9, 23), (10, 9, 23), (10, 9, 23), (10, 8, 23), (10, 8, 23)]"
      ]
     },
     "execution_count": 34,
     "metadata": {},
     "output_type": "execute_result"
    }
   ],
   "source": [
    "status3 = status2.filter(lambda x: x[2]==2015 and  x[3]==2 and x[4]>=22).map(lambda x: (x[0], x[1], x[5]))\n",
    "\n",
    "status3.take(5)"
   ]
  },
  {
   "cell_type": "code",
   "execution_count": 35,
   "id": "european-market",
   "metadata": {},
   "outputs": [
    {
     "data": {
      "text/plain": [
       "['2,San Jose Diridon Caltrain Station,37.329732,-121.901782,27,San Jose,8/6/2013']"
      ]
     },
     "execution_count": 35,
     "metadata": {},
     "output_type": "execute_result"
    }
   ],
   "source": [
    "stations.take(1)"
   ]
  },
  {
   "cell_type": "code",
   "execution_count": 37,
   "id": "dramatic-occurrence",
   "metadata": {},
   "outputs": [
    {
     "data": {
      "text/plain": [
       "[(2, 'San Jose Diridon Caltrain Station')]"
      ]
     },
     "execution_count": 37,
     "metadata": {},
     "output_type": "execute_result"
    }
   ],
   "source": [
    "stations2 = stations.map(lambda x: x.split(',')).filter(lambda x: x[5] == 'San Jose').map(lambda x: (int(x[0]), x[1]))\n",
    "stations2.take(1)"
   ]
  },
  {
   "cell_type": "code",
   "execution_count": 38,
   "id": "little-morning",
   "metadata": {},
   "outputs": [
    {
     "data": {
      "text/plain": [
       "[(10, (10, 9, 23))]"
      ]
     },
     "execution_count": 38,
     "metadata": {},
     "output_type": "execute_result"
    }
   ],
   "source": [
    "status_kv = status3.keyBy(lambda x: x[0])\n",
    "status_kv.take(1)"
   ]
  },
  {
   "cell_type": "code",
   "execution_count": 39,
   "id": "employed-natural",
   "metadata": {},
   "outputs": [
    {
     "data": {
      "text/plain": [
       "[(2, (2, 'San Jose Diridon Caltrain Station'))]"
      ]
     },
     "execution_count": 39,
     "metadata": {},
     "output_type": "execute_result"
    }
   ],
   "source": [
    "stations_kv = stations2.keyBy(lambda x: x[0])\n",
    "stations_kv.take(1)"
   ]
  },
  {
   "cell_type": "code",
   "execution_count": 40,
   "id": "enormous-transfer",
   "metadata": {},
   "outputs": [],
   "source": [
    "joined = status_kv.join(stations_kv)"
   ]
  },
  {
   "cell_type": "code",
   "execution_count": null,
   "id": "accessible-illinois",
   "metadata": {},
   "outputs": [],
   "source": [
    "# 2, (2, 7, 23) ('2', 'San Jose Diridon Caltrain Station')"
   ]
  },
  {
   "cell_type": "code",
   "execution_count": 41,
   "id": "invalid-knight",
   "metadata": {},
   "outputs": [
    {
     "data": {
      "text/plain": [
       "[(2, ((2, 20, 0), (2, 'San Jose Diridon Caltrain Station')))]"
      ]
     },
     "execution_count": 41,
     "metadata": {},
     "output_type": "execute_result"
    }
   ],
   "source": [
    "joined.take(1)"
   ]
  },
  {
   "cell_type": "code",
   "execution_count": 42,
   "id": "scientific-estonia",
   "metadata": {},
   "outputs": [],
   "source": [
    "cleaned = joined.map(lambda x: (x[0], x[1][0][1], x[1][0][2], x[1][1][1]))"
   ]
  },
  {
   "cell_type": "code",
   "execution_count": 43,
   "id": "frequent-taylor",
   "metadata": {},
   "outputs": [
    {
     "data": {
      "text/plain": [
       "[(2, 20, 0, 'San Jose Diridon Caltrain Station')]"
      ]
     },
     "execution_count": 43,
     "metadata": {},
     "output_type": "execute_result"
    }
   ],
   "source": [
    "cleaned.take(1)"
   ]
  },
  {
   "cell_type": "code",
   "execution_count": null,
   "id": "swedish-traffic",
   "metadata": {},
   "outputs": [],
   "source": [
    "# [(station_id,bikes_available,hour,name),...]"
   ]
  },
  {
   "cell_type": "code",
   "execution_count": 59,
   "id": "tracked-onion",
   "metadata": {},
   "outputs": [
    {
     "data": {
      "text/plain": [
       "[(('San Jose Diridon Caltrain Station', 0), (20, 1))]"
      ]
     },
     "execution_count": 59,
     "metadata": {},
     "output_type": "execute_result"
    }
   ],
   "source": [
    "avgbyhour = cleaned.keyBy(lambda x: (x[3], x[2])) \\\n",
    "    .mapValues(lambda x: (x[1], 1)) \\\n",
    "\n",
    "avgbyhour.take(1)"
   ]
  },
  {
   "cell_type": "code",
   "execution_count": 60,
   "id": "professional-coast",
   "metadata": {},
   "outputs": [
    {
     "data": {
      "text/plain": [
       "[(('San Jose Civic Center', 2), (3100, 420))]"
      ]
     },
     "execution_count": 60,
     "metadata": {},
     "output_type": "execute_result"
    }
   ],
   "source": [
    "avgbyhour = cleaned.keyBy(lambda x: (x[3], x[2])) \\\n",
    "    .mapValues(lambda x: (x[1], 1)) \\\n",
    "    .reduceByKey(lambda x, y: (x[0]+y[0], x[1]+y[1]))\n",
    "\n",
    "avgbyhour.take(1)"
   ]
  },
  {
   "cell_type": "code",
   "execution_count": 61,
   "id": "piano-pharmacy",
   "metadata": {},
   "outputs": [
    {
     "data": {
      "text/plain": [
       "[(('San Jose Civic Center', 2), 7.380952380952381)]"
      ]
     },
     "execution_count": 61,
     "metadata": {},
     "output_type": "execute_result"
    }
   ],
   "source": [
    "avgbyhour = cleaned.keyBy(lambda x: (x[3], x[2])) \\\n",
    "    .mapValues(lambda x: (x[1], 1)) \\\n",
    "    .reduceByKey(lambda x, y: (x[0]+y[0], x[1]+y[1])) \\\n",
    "    .mapValues(lambda x: (x[0]/x[1]))\n",
    "\n",
    "avgbyhour.take(1)"
   ]
  },
  {
   "cell_type": "code",
   "execution_count": 62,
   "id": "soviet-abraham",
   "metadata": {},
   "outputs": [
    {
     "data": {
      "text/plain": [
       "7.380952380952381"
      ]
     },
     "execution_count": 62,
     "metadata": {},
     "output_type": "execute_result"
    }
   ],
   "source": [
    "3100/420"
   ]
  },
  {
   "cell_type": "code",
   "execution_count": 66,
   "id": "proprietary-rings",
   "metadata": {},
   "outputs": [
    {
     "data": {
      "text/plain": [
       "[(7.380952380952381, (('San Jose Civic Center', 2), 7.380952380952381)),\n",
       " (8.30952380952381, (('Paseo de San Antonio', 13), 8.30952380952381)),\n",
       " (8.285714285714286, (('San Salvador at 1st', 10), 8.285714285714286)),\n",
       " (7.7023809523809526, (('Japantown', 4), 7.7023809523809526)),\n",
       " (3.7142857142857144,\n",
       "  (('Santa Clara County Civic Center', 2), 3.7142857142857144))]"
      ]
     },
     "execution_count": 66,
     "metadata": {},
     "output_type": "execute_result"
    }
   ],
   "source": [
    "topavail = avgbyhour.keyBy(lambda x: x[1])\n",
    "topavail.take(5)"
   ]
  },
  {
   "cell_type": "code",
   "execution_count": 63,
   "id": "opened-appendix",
   "metadata": {},
   "outputs": [
    {
     "data": {
      "text/plain": [
       "[(('San Jose Diridon Caltrain Station', 17), 17, 16.590476190476192),\n",
       " (('San Jose Diridon Caltrain Station', 7), 7, 16.492857142857144),\n",
       " (('San Jose Diridon Caltrain Station', 6), 6, 16.34285714285714),\n",
       " (('San Jose Diridon Caltrain Station', 18), 18, 16.21904761904762),\n",
       " (('San Jose Diridon Caltrain Station', 19), 19, 15.64047619047619)]"
      ]
     },
     "execution_count": 63,
     "metadata": {},
     "output_type": "execute_result"
    }
   ],
   "source": [
    "topavail = avgbyhour.keyBy(lambda x: x[1]) \\\n",
    "            .sortByKey(ascending=False) \\\n",
    "            .map(lambda x: (x[1][0], x[1][0][1], x[0]))\n",
    "\n",
    "topavail.take(5)"
   ]
  },
  {
   "cell_type": "code",
   "execution_count": null,
   "id": "historic-productivity",
   "metadata": {},
   "outputs": [],
   "source": []
  },
  {
   "cell_type": "code",
   "execution_count": null,
   "id": "binary-omaha",
   "metadata": {},
   "outputs": [],
   "source": []
  },
  {
   "cell_type": "code",
   "execution_count": null,
   "id": "formal-reducing",
   "metadata": {},
   "outputs": [],
   "source": []
  },
  {
   "cell_type": "code",
   "execution_count": null,
   "id": "capable-chick",
   "metadata": {},
   "outputs": [],
   "source": []
  }
 ],
 "metadata": {
  "kernelspec": {
   "display_name": "Python 3",
   "language": "python",
   "name": "python3"
  },
  "language_info": {
   "codemirror_mode": {
    "name": "ipython",
    "version": 3
   },
   "file_extension": ".py",
   "mimetype": "text/x-python",
   "name": "python",
   "nbconvert_exporter": "python",
   "pygments_lexer": "ipython3",
   "version": "3.9.1"
  }
 },
 "nbformat": 4,
 "nbformat_minor": 5
}
